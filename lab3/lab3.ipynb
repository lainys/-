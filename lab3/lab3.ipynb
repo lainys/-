{
 "cells": [
  {
   "cell_type": "markdown",
   "metadata": {},
   "source": [
    "# Методы оптимизации\n",
    "## Лабораторная работа № 3"
   ]
  },
  {
   "cell_type": "code",
   "execution_count": 1,
   "metadata": {},
   "outputs": [
    {
     "name": "stdout",
     "output_type": "stream",
     "text": [
      "Populating the interactive namespace from numpy and matplotlib\n"
     ]
    }
   ],
   "source": [
    "import numpy as np\n",
    "import matplotlib.pyplot as plt\n",
    "%pylab inline\n",
    "\n",
    "import seaborn as sns\n",
    "sns.set()"
   ]
  },
  {
   "cell_type": "code",
   "execution_count": 2,
   "metadata": {},
   "outputs": [],
   "source": [
    "pylab.rcParams['figure.figsize'] = (20, 12)"
   ]
  },
  {
   "cell_type": "code",
   "execution_count": 515,
   "metadata": {},
   "outputs": [],
   "source": [
    "def load_f(name):\n",
    "    to = []\n",
    "    with open(name,'r') as f:\n",
    "        for line in f.readlines():\n",
    "            if line.strip() == '':\n",
    "                continue\n",
    "            to.append(np.array([float(i) for i in line.strip().split(' ') if i != '']))\n",
    "    return np.array(to)"
   ]
  },
  {
   "cell_type": "code",
   "execution_count": 541,
   "metadata": {},
   "outputs": [],
   "source": [
    "P2 = load_f(\"P2.txt\").T[2].reshape(1600,1)\n",
    "P4_V1 = load_f(\"P4_V1.txt\").T[2].reshape(1600,1)\n",
    "P4_V2 = load_f(\"P4_V2.txt\").T[2].reshape(1600,1)\n",
    "P4_V3 = load_f(\"P4_V3.txt\").T[2].reshape(1600,1)\n",
    "P4_V4 = load_f(\"P4_V4.txt\").T[2].reshape(1600,1)"
   ]
  },
  {
   "cell_type": "code",
   "execution_count": 542,
   "metadata": {},
   "outputs": [
    {
     "data": {
      "text/plain": [
       "((1600, 1), (1600, 1), (1600, 1), (1600, 1), (1600, 1))"
      ]
     },
     "execution_count": 542,
     "metadata": {},
     "output_type": "execute_result"
    }
   ],
   "source": [
    "P2.shape,P4_V1.shape,P4_V2.shape,P4_V3.shape,P4_V4.shape"
   ]
  },
  {
   "cell_type": "markdown",
   "metadata": {},
   "source": [
    "#### Метод перебора"
   ]
  },
  {
   "cell_type": "code",
   "execution_count": 470,
   "metadata": {},
   "outputs": [
    {
     "name": "stdout",
     "output_type": "stream",
     "text": [
      "-3950.0\n"
     ]
    }
   ],
   "source": [
    "def perebor(f):\n",
    "    min = f[0][0]\n",
    "    for i in range(len(f)):\n",
    "        for j in range(len(f[0])):\n",
    "            if (f[i][j]<min):\n",
    "                min = f[i][j]\n",
    "    print(min)\n",
    "    \n",
    "perebor(P2)"
   ]
  },
  {
   "cell_type": "markdown",
   "metadata": {},
   "source": [
    "#### Метод поиска по шаблону"
   ]
  },
  {
   "cell_type": "code",
   "execution_count": null,
   "metadata": {},
   "outputs": [],
   "source": []
  },
  {
   "cell_type": "markdown",
   "metadata": {},
   "source": [
    "#### Метод случайного поиска"
   ]
  },
  {
   "cell_type": "code",
   "execution_count": 289,
   "metadata": {},
   "outputs": [
    {
     "data": {
      "text/plain": [
       "-3950.0"
      ]
     },
     "execution_count": 289,
     "metadata": {},
     "output_type": "execute_result"
    }
   ],
   "source": [
    "def random_search(f):\n",
    "    n = int(f.shape[0]*0.5)\n",
    "    best_f = f[0][0]\n",
    "    for i in np.random.permutation(f.shape[0])[:n]:\n",
    "        for j in np.random.permutation(f.shape[1])[:n]:\n",
    "            if f[i][j] < best_f:\n",
    "                best_f = f[i][j]\n",
    "    return best_f\n",
    "\n",
    "random_search(P2)"
   ]
  },
  {
   "cell_type": "markdown",
   "metadata": {},
   "source": [
    "#### Метод имитации отжига"
   ]
  },
  {
   "cell_type": "code",
   "execution_count": 224,
   "metadata": {},
   "outputs": [],
   "source": [
    "### Больцмановский отжиг\n",
    "def T_b(k,T0=1e4):\n",
    "    return T0/np.log(1+k)\n",
    "\n",
    "def G_b(dx,T,D=2):\n",
    "    a1 = 1/np.sqrt(2*np.pi*T)**D\n",
    "    a2 = np.exp(-(dx**2)/(2*T))\n",
    "    return a1*a2\n",
    "\n",
    "def h(de,T):\n",
    "    a = np.exp(-de/T)\n",
    "    if a is None:\n",
    "        return 0\n",
    "    return a\n",
    "    "
   ]
  },
  {
   "cell_type": "code",
   "execution_count": 225,
   "metadata": {},
   "outputs": [],
   "source": [
    "### Отжиг Коши\n",
    "def T_k(k,T0=100):\n",
    "    return T0/k\n",
    "\n",
    "def G_k(dx,T,D=2):\n",
    "    a = T/(dx**2 + T**2)/np.pi\n",
    "    return a**D\n",
    "    "
   ]
  },
  {
   "cell_type": "code",
   "execution_count": 228,
   "metadata": {},
   "outputs": [],
   "source": [
    "### Тушение больцмана\n",
    "def T_bt(k,c=0.8,T0=1e4):\n",
    "    return T0*c**k\n",
    "    "
   ]
  },
  {
   "cell_type": "code",
   "execution_count": 547,
   "metadata": {},
   "outputs": [],
   "source": [
    "def my_G(dx,a,b):\n",
    "    return np.random.randint(0,a),np.random.randint(0,b)"
   ]
  },
  {
   "cell_type": "code",
   "execution_count": 548,
   "metadata": {},
   "outputs": [
    {
     "data": {
      "text/plain": [
       "0.00225006"
      ]
     },
     "execution_count": 548,
     "metadata": {},
     "output_type": "execute_result"
    }
   ],
   "source": [
    "def imitation_of_fire(f,a0,b0,T=T_bt,G=my_G,h=h):\n",
    "    x,y = int(np.random.rand()*a0),int(np.random.rand()*b0)\n",
    "    E_o = f(x,y)\n",
    "    k = 0\n",
    "    max_iter = 10000\n",
    "    er = max_iter\n",
    "    a = np.random.rand()\n",
    "    x_n,y_n=0,0\n",
    "    while True:\n",
    "        k += 1\n",
    "        #x_n,y_n = G(np.array([x,y]),T(k))\n",
    "        x_n,y_n = G(np.array([x,y]),a0,b0)\n",
    "        E_n = f(x_n,y_n)\n",
    "        a = np.random.rand()\n",
    "        if a < h(E_n-E_o,T(k)) and E_n < E_o:\n",
    "            E_o = E_n\n",
    "            x,y = x_n,y_n\n",
    "            er = max_iter\n",
    "        else:\n",
    "            er -= 1\n",
    "            k -= 1\n",
    "            if er == 0:\n",
    "                break\n",
    "    return E_o\n",
    "\n",
    "f = lambda x,y: P2[int(x)][int(y)]\n",
    "imitation_of_fire(f,P2.shape[0],P2.shape[1])"
   ]
  },
  {
   "cell_type": "markdown",
   "metadata": {},
   "source": [
    "#### Генетический алгоритм"
   ]
  },
  {
   "cell_type": "code",
   "execution_count": 552,
   "metadata": {
    "scrolled": false
   },
   "outputs": [
    {
     "data": {
      "text/plain": [
       "0.00263354"
      ]
     },
     "execution_count": 552,
     "metadata": {},
     "output_type": "execute_result"
    }
   ],
   "source": [
    "def create_new_population(f,a,h=100):\n",
    "    population = []\n",
    "    #scores = []\n",
    "    \n",
    "    while not len(population) == h:\n",
    "        new_child = []\n",
    "        for ai in a:\n",
    "            new_child.append(np.random.randint(ai))\n",
    "        \n",
    "        population.append(np.array(new_child))\n",
    "        #scores.append(f(*new_child))\n",
    "    \n",
    "    #return np.array(population),np.array(np.array(scores))\n",
    "    #return population,scores\n",
    "    return population\n",
    "    \n",
    "def sort_pop(f,population):\n",
    "    n = len(population)\n",
    "    scores = np.zeros(n)\n",
    "    for i in range(n):\n",
    "        scores[i] = f(*population[i])\n",
    "        \n",
    "    arg_sort = scores.argsort()\n",
    "    return np.array(population)[arg_sort].tolist()\n",
    "\n",
    "def arg_sort_pop(f,population):\n",
    "    n = len(population)\n",
    "    scores = np.zeros(n)\n",
    "    for i in range(n):\n",
    "        scores[i] = f(*population[i])\n",
    "        \n",
    "    arg_sort = scores.argsort()\n",
    "    return arg_sort\n",
    "\n",
    "def create_new_generation(f,population,a,n_s=50,n_m=0.1,n_c=0.4):\n",
    "    n = len(population)\n",
    "    n_c = int(n_c*n)\n",
    "    n_m = int(n_m*n)\n",
    "    #n_s = int(n_s*n)\n",
    "    \n",
    "    p = np.random.permutation(n)\n",
    "    for i in range(n_c):\n",
    "        np.random.shuffle(p)\n",
    "        p1 = population[p[0]]\n",
    "        p2 = population[p[1]]\n",
    "        population += crossingover(p1,p2)\n",
    "        \n",
    "    for i in range(n_m):\n",
    "        mutant_index = p[i]\n",
    "        population[mutant_index] = mutation(population[mutant_index],a)\n",
    "    \n",
    "    return sort_pop(f,population)[:n_s]\n",
    "\n",
    "def create_new_generation2(f,population,a,n_s=50,n_m=0.2,n_c=0.4):\n",
    "    n = len(population)\n",
    "    n_c = int(n_c*n)\n",
    "    n_m = int(n_m*n)\n",
    "    #n_s = int(n_s*n)\n",
    "    \n",
    "    for i in arg_sort_pop(f,population)[-n_m:]:\n",
    "        population[i] = mutation(population[i],a)\n",
    "    \n",
    "    p = np.random.permutation(n)\n",
    "    \n",
    "    for i in range(n_c):\n",
    "        np.random.shuffle(p)\n",
    "        p1 = population[p[0]]\n",
    "        p2 = population[p[1]]\n",
    "        population += crossingover(p1,p2)\n",
    "    \n",
    "    return sort_pop(f,population)[:n_s]\n",
    "        \n",
    "def crossingover(p1,p2):\n",
    "    pop_cross = []\n",
    "    for i in range(len(p1)):\n",
    "        for j in range(len(p2)):\n",
    "            if i != j:\n",
    "                pn1 = copy(p1)\n",
    "                pn2 = copy(p2)\n",
    "                \n",
    "                pn1[j] = p2[j]\n",
    "                pn2[i] = p1[i]\n",
    "                \n",
    "                pop_cross.append(np.array(pn1))\n",
    "                pop_cross.append(np.array(pn2))\n",
    "                \n",
    "    return pop_cross\n",
    "\n",
    "def mutation(p,a):\n",
    "    c = np.random.randint(len(a))\n",
    "    a = a[c]\n",
    "    p[c] = np.random.randint(a)\n",
    "    return p\n",
    "\n",
    "def genetic(f,a,count_gen=100,h=50):\n",
    "    p1 = create_new_population(f,a,h=h)\n",
    "    \n",
    "    for i in range(count_gen):\n",
    "        p1 = create_new_generation(f,p1,a)\n",
    "    return f(*p1[0])\n",
    "\n",
    "def genetic2(f,a,count_gen=100,h=50):\n",
    "    p2 = create_new_population(f,a,h=h)\n",
    "\n",
    "    for i in range(count_gen):\n",
    "        p2 = create_new_generation2(f,p2,a)\n",
    "        \n",
    "    return f(*p2[0])\n",
    "\n",
    "f = lambda x,y: P2[int(x)][int(y)]\n",
    "genetic(f,[P2.shape[0],P2.shape[1]])"
   ]
  },
  {
   "cell_type": "code",
   "execution_count": 553,
   "metadata": {},
   "outputs": [
    {
     "data": {
      "text/plain": [
       "(100, 100)"
      ]
     },
     "execution_count": 553,
     "metadata": {},
     "output_type": "execute_result"
    }
   ],
   "source": [
    "f = lambda x,y: P2[int(x)][int(y)]\n",
    "a = [P2.shape[0],P2.shape[1]]\n",
    "test_ans = -3950\n",
    "err1 = 0\n",
    "err2 = 0\n",
    "for i in range(100):\n",
    "    ans1 = genetic(f,a)-test_ans\n",
    "    ans2 = genetic2(f,a)-test_ans\n",
    "    if ans1 != 0:\n",
    "        err1 +=1\n",
    "    if ans2 != 0:\n",
    "        err2 +=1\n",
    "        \n",
    "err1,err2"
   ]
  },
  {
   "cell_type": "code",
   "execution_count": 554,
   "metadata": {},
   "outputs": [],
   "source": [
    "def test(P):\n",
    "    f = lambda x,y: P[int(x)][int(y)]\n",
    "    a = [P.shape[0],P.shape[1]]\n",
    "    return perebor(P),random_search(P),imitation_of_fire(f,a[0],a[1]),genetic(f,a),genetic2(f,a)"
   ]
  },
  {
   "cell_type": "code",
   "execution_count": 555,
   "metadata": {},
   "outputs": [
    {
     "name": "stdout",
     "output_type": "stream",
     "text": [
      "0.00159419\n",
      "0.00140179\n",
      "0.000768731\n",
      "0.00130828\n"
     ]
    },
    {
     "data": {
      "text/plain": [
       "((None, 0.00190255, 0.00159419, 0.00159419, 0.00159419),\n",
       " (None, 0.00140179, 0.00140179, 0.00181148, 0.00166633),\n",
       " (None, 0.00171128, 0.000768731, 0.00171128, 0.00167134),\n",
       " (None, 0.00198873, 0.00130828, 0.00202447, 0.00130828))"
      ]
     },
     "execution_count": 555,
     "metadata": {},
     "output_type": "execute_result"
    }
   ],
   "source": [
    "test(P4_V1),test(P4_V2),test(P4_V3),test(P4_V4)"
   ]
  },
  {
   "cell_type": "code",
   "execution_count": 556,
   "metadata": {},
   "outputs": [
    {
     "data": {
      "text/plain": [
       "(0.00159419, 0.00140179, 0.000768731, 0.00130828)"
      ]
     },
     "execution_count": 556,
     "metadata": {},
     "output_type": "execute_result"
    }
   ],
   "source": [
    "np.min(P4_V1),np.min(P4_V2),np.min(P4_V3),np.min(P4_V4)"
   ]
  },
  {
   "cell_type": "code",
   "execution_count": null,
   "metadata": {},
   "outputs": [],
   "source": []
  }
 ],
 "metadata": {
  "kernelspec": {
   "display_name": "Python 3",
   "language": "python",
   "name": "python3"
  },
  "language_info": {
   "codemirror_mode": {
    "name": "ipython",
    "version": 3
   },
   "file_extension": ".py",
   "mimetype": "text/x-python",
   "name": "python",
   "nbconvert_exporter": "python",
   "pygments_lexer": "ipython3",
   "version": "3.6.6"
  }
 },
 "nbformat": 4,
 "nbformat_minor": 2
}
