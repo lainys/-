{
 "cells": [
  {
   "cell_type": "markdown",
   "metadata": {},
   "source": [
    "# Методы оптимизации\n",
    "## Лабораторная работа № 3"
   ]
  },
  {
   "cell_type": "code",
   "execution_count": 2,
   "metadata": {},
   "outputs": [
    {
     "name": "stdout",
     "output_type": "stream",
     "text": [
      "Populating the interactive namespace from numpy and matplotlib\n"
     ]
    }
   ],
   "source": [
    "import inspect\n",
    "import numpy as np\n",
    "import matplotlib.pyplot as plt\n",
    "%pylab inline\n",
    "\n",
    "import warnings\n",
    "warnings.filterwarnings(\"ignore\")\n",
    "\n",
    "import seaborn as sns\n",
    "sns.set()"
   ]
  },
  {
   "cell_type": "code",
   "execution_count": 3,
   "metadata": {},
   "outputs": [],
   "source": [
    "pylab.rcParams['figure.figsize'] = (20, 12)"
   ]
  },
  {
   "cell_type": "code",
   "execution_count": 4,
   "metadata": {},
   "outputs": [],
   "source": [
    "def load_f(name):\n",
    "    to = []\n",
    "    with open(name,'r') as f:\n",
    "        for line in f.readlines():\n",
    "            if line.strip() == '':\n",
    "                continue\n",
    "            to.append(np.array([float(i) for i in line.strip().split(' ') if i != '']))\n",
    "    return np.array(to)"
   ]
  },
  {
   "cell_type": "code",
   "execution_count": 5,
   "metadata": {},
   "outputs": [],
   "source": [
    "P2 = load_f(\"P2.txt\").T[2].reshape(1600,1)\n",
    "P4_V1 = load_f(\"P4_V1.txt\").T[2].reshape(1600,1)\n",
    "P4_V2 = load_f(\"P4_V2.txt\").T[2].reshape(1600,1)\n",
    "P4_V3 = load_f(\"P4_V3.txt\").T[2].reshape(1600,1)\n",
    "P4_V4 = load_f(\"P4_V4.txt\").T[2].reshape(1600,1)"
   ]
  },
  {
   "cell_type": "code",
   "execution_count": 6,
   "metadata": {},
   "outputs": [
    {
     "data": {
      "text/plain": [
       "((1600, 1), (1600, 1), (1600, 1), (1600, 1), (1600, 1))"
      ]
     },
     "execution_count": 6,
     "metadata": {},
     "output_type": "execute_result"
    }
   ],
   "source": [
    "P2.shape,P4_V1.shape,P4_V2.shape,P4_V3.shape,P4_V4.shape"
   ]
  },
  {
   "cell_type": "code",
   "execution_count": 7,
   "metadata": {},
   "outputs": [],
   "source": [
    "from mpl_toolkits.mplot3d import Axes3D\n",
    "def plot_3d(p):\n",
    "    sns.set_context(\"talk\")\n",
    "    sns.set_style('whitegrid')\n",
    "    X, Y, Z = p.T[0].reshape(40,40),p.T[1].reshape(40,40),p.T[2].reshape(40,40) \n",
    "    ax = plt.axes(projection='3d')\n",
    "    ax.scatter(X,Y,Z)\n",
    "    ax.plot_surface(X,Y,Z, cmap=plt.cm.jet, rstride=1, cstride=1, linewidth=0)"
   ]
  },
  {
   "cell_type": "code",
   "execution_count": 8,
   "metadata": {},
   "outputs": [],
   "source": [
    "def plot_countor(p):\n",
    "    sns.set_context(\"talk\")\n",
    "    sns.set_style('whitegrid')\n",
    "    X, Y, Z = p.T[0].reshape(40,40),p.T[1].reshape(40,40),p.T[2].reshape(40,40)\n",
    "   \n",
    "    cp = plt.contour(X, Y, Z, 40,colors='black');\n",
    "    \n",
    "    plt.clabel(cp, inline=True, fontsize=16)\n",
    "    plt.colorbar(cp)\n",
    "    plt.xlabel('x')\n",
    "    plt.ylabel('y')"
   ]
  },
  {
   "cell_type": "code",
   "execution_count": 9,
   "metadata": {},
   "outputs": [
    {
     "data": {
      "text/plain": [
       "'P2 = load_f(\"P2.txt\")\\nP4_V1 = load_f(\"P4_V1.txt\")\\nP4_V2 = load_f(\"P4_V2.txt\")\\nP4_V3 = load_f(\"P4_V3.txt\")\\nP4_V4 = load_f(\"P4_V4.txt\")'"
      ]
     },
     "execution_count": 9,
     "metadata": {},
     "output_type": "execute_result"
    }
   ],
   "source": [
    "'''P2 = load_f(\"P2.txt\")\n",
    "P4_V1 = load_f(\"P4_V1.txt\")\n",
    "P4_V2 = load_f(\"P4_V2.txt\")\n",
    "P4_V3 = load_f(\"P4_V3.txt\")\n",
    "P4_V4 = load_f(\"P4_V4.txt\")'''"
   ]
  },
  {
   "cell_type": "code",
   "execution_count": 10,
   "metadata": {
    "scrolled": false
   },
   "outputs": [
    {
     "data": {
      "text/plain": [
       "'plot_3d(P2)'"
      ]
     },
     "execution_count": 10,
     "metadata": {},
     "output_type": "execute_result"
    }
   ],
   "source": [
    "'''plot_3d(P2)'''\n"
   ]
  },
  {
   "cell_type": "markdown",
   "metadata": {},
   "source": [
    "#### Метод перебора"
   ]
  },
  {
   "cell_type": "code",
   "execution_count": 11,
   "metadata": {},
   "outputs": [
    {
     "name": "stdout",
     "output_type": "stream",
     "text": [
      "0.00225006\n"
     ]
    }
   ],
   "source": [
    "def perebor(f):\n",
    "    min = f[0][0]\n",
    "    for i in range(len(f)):\n",
    "        for j in range(len(f[0])):\n",
    "            if (f[i][j]<min):\n",
    "                min = f[i][j]\n",
    "    print(min)\n",
    "    \n",
    "perebor(P2)"
   ]
  },
  {
   "cell_type": "markdown",
   "metadata": {},
   "source": [
    "#### Метод поиска по шаблону"
   ]
  },
  {
   "cell_type": "code",
   "execution_count": null,
   "metadata": {},
   "outputs": [],
   "source": []
  },
  {
   "cell_type": "markdown",
   "metadata": {},
   "source": [
    "#### Метод случайного поиска"
   ]
  },
  {
   "cell_type": "code",
   "execution_count": 12,
   "metadata": {},
   "outputs": [
    {
     "data": {
      "text/plain": [
       "0.00225006"
      ]
     },
     "execution_count": 12,
     "metadata": {},
     "output_type": "execute_result"
    }
   ],
   "source": [
    "def random_search(f):\n",
    "    n = int(f.shape[0]*0.5)\n",
    "    best_f = f[0][0]\n",
    "    for i in np.random.permutation(f.shape[0])[:n]:\n",
    "        for j in np.random.permutation(f.shape[1])[:n]:\n",
    "            if f[i][j] < best_f:\n",
    "                best_f = f[i][j]\n",
    "    return best_f\n",
    "\n",
    "random_search(P2)"
   ]
  },
  {
   "cell_type": "markdown",
   "metadata": {},
   "source": [
    "#### Метод имитации отжига"
   ]
  },
  {
   "cell_type": "code",
   "execution_count": 13,
   "metadata": {},
   "outputs": [],
   "source": [
    "### Больцмановский отжиг\n",
    "def T_b(k,T0=1e4):\n",
    "    return T0/np.log(1+k)\n",
    "\n",
    "def G_b(dx,T,D=2):\n",
    "    a1 = 1/np.sqrt(2*np.pi*T)**D\n",
    "    a2 = np.exp(-(dx**2)/(2*T))\n",
    "    return a1*a2\n",
    "\n",
    "def h(de,T):\n",
    "    a = np.exp(-de/T)\n",
    "    if a is None:\n",
    "        return 0\n",
    "    return a\n",
    "    "
   ]
  },
  {
   "cell_type": "code",
   "execution_count": 14,
   "metadata": {},
   "outputs": [],
   "source": [
    "### Отжиг Коши\n",
    "def T_k(k,T0=100):\n",
    "    return T0/k\n",
    "\n",
    "def G_k(dx,T,D=2):\n",
    "    a = T/(dx**2 + T**2)/np.pi\n",
    "    return a**D\n",
    "    "
   ]
  },
  {
   "cell_type": "code",
   "execution_count": 15,
   "metadata": {},
   "outputs": [],
   "source": [
    "### Тушение больцмана\n",
    "def T_bt(k,c=0.8,T0=1e4):\n",
    "    return T0*c**k\n",
    "    "
   ]
  },
  {
   "cell_type": "code",
   "execution_count": 16,
   "metadata": {},
   "outputs": [],
   "source": [
    "def my_G(dx,a,b):\n",
    "    return np.random.randint(0,a),np.random.randint(0,b)"
   ]
  },
  {
   "cell_type": "code",
   "execution_count": 31,
   "metadata": {},
   "outputs": [
    {
     "data": {
      "text/plain": [
       "0.00225006"
      ]
     },
     "execution_count": 31,
     "metadata": {},
     "output_type": "execute_result"
    }
   ],
   "source": [
    "def imitation_of_fire(f,a,T=T_bt,G=my_G,h=h,max_iter=10000):\n",
    "    a0,b0=a\n",
    "    x,y = int(np.random.rand()*a0),int(np.random.rand()*b0)\n",
    "    E_o = f(x,y)\n",
    "    k = 0\n",
    "    er = max_iter\n",
    "    a = np.random.rand()\n",
    "    x_n,y_n=0,0\n",
    "    while True:\n",
    "        k += 1\n",
    "        #x_n,y_n = G(np.array([x,y]),T(k))\n",
    "        x_n,y_n = G(np.array([x,y]),a0,b0)\n",
    "        E_n = f(x_n,y_n)\n",
    "        a = np.random.rand()\n",
    "        if a < h(E_n-E_o,T(k)) and E_n < E_o:\n",
    "            E_o = E_n\n",
    "            x,y = x_n,y_n\n",
    "            er = max_iter\n",
    "        else:\n",
    "            er -= 1\n",
    "            k -= 1\n",
    "            if er == 0:\n",
    "                break\n",
    "    return E_o\n",
    "\n",
    "f = lambda x,y: P2[int(x)][int(y)]\n",
    "a = P2.shape[0],P2.shape[1]\n",
    "imitation_of_fire(f,a)"
   ]
  },
  {
   "cell_type": "markdown",
   "metadata": {},
   "source": [
    "#### Генетический алгоритм"
   ]
  },
  {
   "cell_type": "code",
   "execution_count": 18,
   "metadata": {
    "scrolled": false
   },
   "outputs": [
    {
     "data": {
      "text/plain": [
       "0.00225006"
      ]
     },
     "execution_count": 18,
     "metadata": {},
     "output_type": "execute_result"
    }
   ],
   "source": [
    "def create_new_population(f,a,h=100):\n",
    "    population = []\n",
    "    #scores = []\n",
    "    \n",
    "    while not len(population) == h:\n",
    "        new_child = []\n",
    "        for ai in a:\n",
    "            new_child.append(np.random.randint(ai))\n",
    "        \n",
    "        population.append(np.array(new_child))\n",
    "        #scores.append(f(*new_child))\n",
    "    \n",
    "    #return np.array(population),np.array(np.array(scores))\n",
    "    #return population,scores\n",
    "    return population\n",
    "    \n",
    "def sort_pop(f,population):\n",
    "    n = len(population)\n",
    "    scores = np.zeros(n)\n",
    "    for i in range(n):\n",
    "        scores[i] = f(*population[i])\n",
    "        \n",
    "    arg_sort = scores.argsort()\n",
    "    return np.array(population)[arg_sort].tolist()\n",
    "\n",
    "def arg_sort_pop(f,population):\n",
    "    n = len(population)\n",
    "    scores = np.zeros(n)\n",
    "    for i in range(n):\n",
    "        scores[i] = f(*population[i])\n",
    "        \n",
    "    arg_sort = scores.argsort()\n",
    "    return arg_sort\n",
    "\n",
    "def create_new_generation(f,population,a,n_s=100,n_m=0.3,n_c=0.7):\n",
    "    n = len(population)\n",
    "    n_c = int(n_c*n)\n",
    "    n_m = int(n_m*n)\n",
    "    #n_s = int(n_s*n)\n",
    "    \n",
    "    p = np.random.permutation(n)\n",
    "    for i in range(n_c):\n",
    "        np.random.shuffle(p)\n",
    "        p1 = population[p[0]]\n",
    "        p2 = population[p[1]]\n",
    "        population += crossingover(p1,p2)\n",
    "        \n",
    "    for i in range(n_m):\n",
    "        mutant_index = p[i]\n",
    "        population[mutant_index] = mutation(population[mutant_index],a)\n",
    "    \n",
    "    return sort_pop(f,population)[:n_s]\n",
    "\n",
    "def create_new_generation2(f,population,a,n_s=100,n_m=0.3,n_c=0.7):\n",
    "    n = len(population)\n",
    "    n_c = int(n_c*n)\n",
    "    n_m = int(n_m*n)\n",
    "    #n_s = int(n_s*n)\n",
    "    \n",
    "    for i in arg_sort_pop(f,population)[-n_m:]:\n",
    "        population[i] = mutation(population[i],a)\n",
    "    \n",
    "    p = np.random.permutation(n)\n",
    "    \n",
    "    for i in range(n_c):\n",
    "        np.random.shuffle(p)\n",
    "        p1 = population[p[0]]\n",
    "        p2 = population[p[1]]\n",
    "        population += crossingover(p1,p2)\n",
    "    \n",
    "    return sort_pop(f,population)[:n_s]\n",
    "        \n",
    "def crossingover(p1,p2):\n",
    "    pop_cross = []\n",
    "    for i in range(len(p1)):\n",
    "        for j in range(len(p2)):\n",
    "            if i != j:\n",
    "                pn1 = copy(p1)\n",
    "                pn2 = copy(p2)\n",
    "                \n",
    "                pn1[j] = p2[j]\n",
    "                pn2[i] = p1[i]\n",
    "                \n",
    "                pop_cross.append(np.array(pn1))\n",
    "                pop_cross.append(np.array(pn2))\n",
    "                \n",
    "    return pop_cross\n",
    "\n",
    "def mutation(p,a):\n",
    "    c = np.random.randint(len(a))\n",
    "    a = a[c]\n",
    "    p[c] = np.random.randint(a)\n",
    "    return p\n",
    "\n",
    "def genetic(f,a,count_gen=100,h=50):\n",
    "    p1 = create_new_population(f,a,h=h)\n",
    "    for i in range(count_gen):\n",
    "        p1 = create_new_generation(f,p1,a,n_s=int(0.5*h))\n",
    "            \n",
    "    return f(*p1[0])\n",
    "\n",
    "def genetic2(f,a,count_gen=100,h=50):\n",
    "    p2 = create_new_population(f,a,h=h)\n",
    "\n",
    "    for i in range(count_gen):\n",
    "        p2 = create_new_generation2(f,p2,a,n_s=int(0.5*h))\n",
    "        \n",
    "    return f(*p2[0])\n",
    "\n",
    "f = lambda x,y: P2[int(x)][int(y)]\n",
    "genetic(f,[P2.shape[0],P2.shape[1]])"
   ]
  },
  {
   "cell_type": "markdown",
   "metadata": {},
   "source": [
    "#### Подбор параметров"
   ]
  },
  {
   "cell_type": "markdown",
   "metadata": {},
   "source": [
    "#### Генетический алгоритм"
   ]
  },
  {
   "cell_type": "code",
   "execution_count": 24,
   "metadata": {},
   "outputs": [
    {
     "name": "stdout",
     "output_type": "stream",
     "text": [
      "100\n",
      "272\n",
      "445\n",
      "618\n",
      "790\n",
      "963\n",
      "1136\n",
      "1309\n",
      "1481\n",
      "1654\n",
      "1827\n",
      "2000\n",
      "Wall time: 16min 41s\n"
     ]
    },
    {
     "data": {
      "image/png": "[encoded data removed]",
      "text/plain": [
       "<Figure size 1440x864 with 1 Axes>"
      ]
     },
     "metadata": {},
     "output_type": "display_data"
    }
   ],
   "source": [
    "%%time\n",
    "def test_genetic(f,a,hh,test_ans,max_test=20):\n",
    "    sns.set_context(\"poster\")\n",
    "    errors=[[],[]]\n",
    "    for h in hh:\n",
    "        err1 = 0\n",
    "        err2 = 0\n",
    "        print(int(h))\n",
    "        for i in range(max_test):\n",
    "            ans1 = genetic(f,a,h=int(h))-test_ans\n",
    "            ans2 = genetic2(f,a,h=int(h))-test_ans\n",
    "            if ans1 != 0:\n",
    "                err1 +=1\n",
    "            if ans2 != 0:\n",
    "                err2 +=1\n",
    "        errors[0].append(err1/max_test)\n",
    "        errors[1].append(err2/max_test)\n",
    "    plt.plot(hh,errors[0],label='genetic1')\n",
    "    plt.scatter(hh,errors[0])\n",
    "    plt.plot(hh,errors[1],label='genetic2')\n",
    "    plt.scatter(hh,errors[1])\n",
    "    plt.legend(loc='upper left')\n",
    "    return errors\n",
    "\n",
    "f = lambda x,y: P2[int(x)][int(y)]\n",
    "a = [P2.shape[0],P2.shape[1]]\n",
    "test_ans = np.min(P2)\n",
    "hh = np.linspace(100,2000,12)\n",
    "\n",
    "test_genetic(f,a,hh,test_ans)"
   ]
  },
  {
   "cell_type": "code",
   "execution_count": 36,
   "metadata": {},
   "outputs": [
    {
     "name": "stdout",
     "output_type": "stream",
     "text": [
      "100\n",
      "621\n",
      "1142\n",
      "1663\n",
      "2184\n",
      "2705\n",
      "3226\n",
      "3747\n",
      "4268\n",
      "4789\n",
      "5310\n",
      "5831\n",
      "6352\n",
      "6873\n",
      "7394\n",
      "7915\n",
      "8436\n",
      "8957\n",
      "9478\n",
      "10000\n",
      "Wall time: 29.2 s\n"
     ]
    },
    {
     "data": {
      "image/png": "[encoded data removed]",
      "text/plain": [
       "<Figure size 1440x864 with 1 Axes>"
      ]
     },
     "metadata": {},
     "output_type": "display_data"
    }
   ],
   "source": [
    "%%time\n",
    "def test_fire(P2,hh,max_test=20):\n",
    "    f = lambda x,y: P2[int(x)][int(y)]\n",
    "    a = [P2.shape[0],P2.shape[1]]\n",
    "    test_ans = np.min(P2)\n",
    "    sns.set_context(\"poster\")\n",
    "    errors=[]\n",
    "    for h in hh:\n",
    "        err1 = 0\n",
    "        print(int(h))\n",
    "        for i in range(max_test):\n",
    "            ans1 = imitation_of_fire(f,a,max_iter=int(h))-test_ans\n",
    "            if ans1 != 0:\n",
    "                err1 +=1\n",
    "        errors.append(err1/max_test)\n",
    "    plt.plot(hh,errors)\n",
    "    plt.scatter(hh,errors)\n",
    "    return errors\n",
    "\n",
    "hh = np.linspace(1e2,1e4,20)\n",
    "\n",
    "test_fire(P2,hh)"
   ]
  },
  {
   "cell_type": "markdown",
   "metadata": {},
   "source": [
    "#### Test all"
   ]
  },
  {
   "cell_type": "code",
   "execution_count": 20,
   "metadata": {},
   "outputs": [],
   "source": [
    "def test(P):\n",
    "    f = lambda x,y: P[int(x)][int(y)]\n",
    "    a = [P.shape[0],P.shape[1]]\n",
    "    return perebor(P),random_search(P),imitation_of_fire(f,a[0],a[1]),genetic(f,a),genetic2(f,a)"
   ]
  },
  {
   "cell_type": "code",
   "execution_count": 21,
   "metadata": {},
   "outputs": [
    {
     "name": "stdout",
     "output_type": "stream",
     "text": [
      "0.00225006\n",
      "0.00159419\n",
      "0.00140179\n",
      "0.000768731\n",
      "0.00130828\n"
     ]
    },
    {
     "data": {
      "text/plain": [
       "((None, 0.00251783, 0.00225006, 0.00250048, 0.00284153),\n",
       " (None, 0.00159419, 0.00159419, 0.00245682, 0.00235373),\n",
       " (None, 0.00149905, 0.00140179, 0.00140179, 0.00157919),\n",
       " (None, 0.000768731, 0.000768731, 0.000768731, 0.00229418),\n",
       " (None, 0.00130828, 0.00130828, 0.00202447, 0.00130828))"
      ]
     },
     "execution_count": 21,
     "metadata": {},
     "output_type": "execute_result"
    }
   ],
   "source": [
    "test(P2),test(P4_V1),test(P4_V2),test(P4_V3),test(P4_V4)"
   ]
  },
  {
   "cell_type": "code",
   "execution_count": 22,
   "metadata": {},
   "outputs": [
    {
     "data": {
      "text/plain": [
       "(0.00225006, 0.00159419, 0.00140179, 0.000768731, 0.00130828)"
      ]
     },
     "execution_count": 22,
     "metadata": {},
     "output_type": "execute_result"
    }
   ],
   "source": [
    "np.min(P2),np.min(P4_V1),np.min(P4_V2),np.min(P4_V3),np.min(P4_V4)"
   ]
  },
  {
   "cell_type": "code",
   "execution_count": null,
   "metadata": {},
   "outputs": [],
   "source": []
  }
 ],
 "metadata": {
  "kernelspec": {
   "display_name": "Python 3",
   "language": "python",
   "name": "python3"
  },
  "language_info": {
   "codemirror_mode": {
    "name": "ipython",
    "version": 3
   },
   "file_extension": ".py",
   "mimetype": "text/x-python",
   "name": "python",
   "nbconvert_exporter": "python",
   "pygments_lexer": "ipython3",
   "version": "3.6.6"
  }
 },
 "nbformat": 4,
 "nbformat_minor": 2
}
